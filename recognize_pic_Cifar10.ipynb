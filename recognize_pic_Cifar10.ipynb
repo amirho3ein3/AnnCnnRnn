{
  "cells": [
    {
      "cell_type": "code",
      "execution_count": 1,
      "metadata": {
        "scrolled": true,
        "id": "5S3acbd4isWy"
      },
      "outputs": [],
      "source": [
        "from keras.datasets import cifar10\n",
        "import numpy as np\n",
        "import pandas as pd\n",
        "import matplotlib.pyplot as plt"
      ]
    },
    {
      "cell_type": "code",
      "execution_count": 2,
      "metadata": {
        "colab": {
          "base_uri": "https://localhost:8080/"
        },
        "id": "zluOHM2visW1",
        "outputId": "aba9279b-23a9-4a7a-f9d7-cc9fe2c6286b"
      },
      "outputs": [
        {
          "output_type": "stream",
          "name": "stdout",
          "text": [
            "Downloading data from https://www.cs.toronto.edu/~kriz/cifar-10-python.tar.gz\n",
            "170498071/170498071 [==============================] - 6s 0us/step\n"
          ]
        }
      ],
      "source": [
        "(x_train, y_train), (x_test, y_test) = cifar10.load_data()"
      ]
    },
    {
      "cell_type": "code",
      "execution_count": 3,
      "metadata": {
        "colab": {
          "base_uri": "https://localhost:8080/"
        },
        "id": "-tT9lbElisW2",
        "outputId": "ace9ac85-e2b8-40e1-f3d5-825230e6ff50"
      },
      "outputs": [
        {
          "output_type": "stream",
          "name": "stdout",
          "text": [
            "(50000, 32, 32, 3)\n",
            "(10000, 32, 32, 3)\n",
            "(50000, 1)\n",
            "(10000, 1)\n"
          ]
        }
      ],
      "source": [
        "print(x_train.shape)\n",
        "print(x_test.shape)\n",
        "print(y_train.shape)\n",
        "print(y_test.shape)"
      ]
    },
    {
      "cell_type": "code",
      "execution_count": 4,
      "metadata": {
        "colab": {
          "base_uri": "https://localhost:8080/",
          "height": 463
        },
        "id": "YOQO91csisW4",
        "outputId": "42f3aa69-4e57-4b33-a6f9-d5a95827d865"
      },
      "outputs": [
        {
          "output_type": "execute_result",
          "data": {
            "text/plain": [
              "<matplotlib.image.AxesImage at 0x7f336e0832b0>"
            ]
          },
          "metadata": {},
          "execution_count": 4
        },
        {
          "output_type": "display_data",
          "data": {
            "text/plain": [
              "<Figure size 500x500 with 1 Axes>"
            ],
            "image/png": "[encoded data removed]"
          },
          "metadata": {}
        }
      ],
      "source": [
        "plt.figure(figsize=(5,5))\n",
        "plt.imshow(x_train[55])"
      ]
    },
    {
      "cell_type": "code",
      "execution_count": 5,
      "metadata": {
        "scrolled": true,
        "id": "yDXTgdKBisW6"
      },
      "outputs": [],
      "source": [
        "x_train_final = x_train.reshape(-1,32*32*3)/255\n",
        "x_test_final = x_test.reshape(-1,32*32*3)/255"
      ]
    },
    {
      "cell_type": "code",
      "execution_count": 6,
      "metadata": {
        "colab": {
          "base_uri": "https://localhost:8080/"
        },
        "id": "iDlt7xq3isW7",
        "outputId": "f7ea2efa-0727-4feb-e10f-59250aa1b668"
      },
      "outputs": [
        {
          "output_type": "stream",
          "name": "stdout",
          "text": [
            "(50000, 3072)\n",
            "(10000, 3072)\n"
          ]
        }
      ],
      "source": [
        "print(x_train_final.shape)\n",
        "print(x_test_final.shape)\n",
        "#Expected Output :\n",
        "# (50000,3072)\n",
        "# (10000,3072)"
      ]
    },
    {
      "cell_type": "code",
      "execution_count": 7,
      "metadata": {
        "id": "Tlo23njoisW8"
      },
      "outputs": [],
      "source": [
        "from keras.utils import to_categorical\n",
        "y_train_cat = to_categorical(y_train)\n",
        "y_test_cat = to_categorical(y_test)"
      ]
    },
    {
      "cell_type": "code",
      "execution_count": 8,
      "metadata": {
        "id": "hhvBE4HRisW9"
      },
      "outputs": [],
      "source": [
        "from keras.models import Sequential\n",
        "from keras.layers import Dense,Input"
      ]
    },
    {
      "cell_type": "code",
      "execution_count": 9,
      "metadata": {
        "id": "86xqUW0lisW-"
      },
      "outputs": [],
      "source": [
        "model = Sequential()\n",
        "model.add(Input(shape=(32*32*3)))\n",
        "model.add(Dense(512,activation='relu'))\n",
        "model.add(Dense(512,activation='relu'))\n",
        "model.add(Dense(1024,activation='relu'))\n",
        "model.add(Dense(10,activation='softmax'))"
      ]
    },
    {
      "cell_type": "code",
      "execution_count": 10,
      "metadata": {
        "id": "FRiA0AW2isW_"
      },
      "outputs": [],
      "source": [
        "model.compile(optimizer='adam',loss='categorical_crossentropy',metrics=['accuracy'])"
      ]
    },
    {
      "cell_type": "code",
      "execution_count": 11,
      "metadata": {
        "scrolled": true,
        "colab": {
          "base_uri": "https://localhost:8080/"
        },
        "id": "t2RovvSMisXA",
        "outputId": "6eca3c68-1073-4fce-b36d-1d4f13075433"
      },
      "outputs": [
        {
          "output_type": "stream",
          "name": "stdout",
          "text": [
            "Model: \"sequential\"\n",
            "_________________________________________________________________\n",
            " Layer (type)                Output Shape              Param #   \n",
            "=================================================================\n",
            " dense (Dense)               (None, 512)               1573376   \n",
            "                                                                 \n",
            " dense_1 (Dense)             (None, 512)               262656    \n",
            "                                                                 \n",
            " dense_2 (Dense)             (None, 1024)              525312    \n",
            "                                                                 \n",
            " dense_3 (Dense)             (None, 10)                10250     \n",
            "                                                                 \n",
            "=================================================================\n",
            "Total params: 2,371,594\n",
            "Trainable params: 2,371,594\n",
            "Non-trainable params: 0\n",
            "_________________________________________________________________\n"
          ]
        }
      ],
      "source": [
        "model.summary()"
      ]
    },
    {
      "cell_type": "code",
      "execution_count": 12,
      "metadata": {
        "colab": {
          "base_uri": "https://localhost:8080/"
        },
        "id": "aJQQbRUbisXB",
        "outputId": "8eee98e9-ce15-4718-9806-556e401a3da0"
      },
      "outputs": [
        {
          "output_type": "stream",
          "name": "stdout",
          "text": [
            "Epoch 1/30\n",
            "391/391 [==============================] - 9s 6ms/step - loss: 1.8514 - accuracy: 0.3272 - val_loss: 1.7816 - val_accuracy: 0.3525\n",
            "Epoch 2/30\n",
            "391/391 [==============================] - 2s 5ms/step - loss: 1.6503 - accuracy: 0.4074 - val_loss: 1.5948 - val_accuracy: 0.4278\n",
            "Epoch 3/30\n",
            "391/391 [==============================] - 3s 7ms/step - loss: 1.5578 - accuracy: 0.4433 - val_loss: 1.5230 - val_accuracy: 0.4549\n",
            "Epoch 4/30\n",
            "391/391 [==============================] - 2s 6ms/step - loss: 1.4963 - accuracy: 0.4650 - val_loss: 1.4963 - val_accuracy: 0.4643\n",
            "Epoch 5/30\n",
            "391/391 [==============================] - 2s 5ms/step - loss: 1.4477 - accuracy: 0.4835 - val_loss: 1.4894 - val_accuracy: 0.4667\n",
            "Epoch 6/30\n",
            "391/391 [==============================] - 2s 5ms/step - loss: 1.4134 - accuracy: 0.4955 - val_loss: 1.4302 - val_accuracy: 0.4903\n",
            "Epoch 7/30\n",
            "391/391 [==============================] - 2s 5ms/step - loss: 1.3713 - accuracy: 0.5078 - val_loss: 1.4154 - val_accuracy: 0.4984\n",
            "Epoch 8/30\n",
            "391/391 [==============================] - 2s 5ms/step - loss: 1.3362 - accuracy: 0.5208 - val_loss: 1.4208 - val_accuracy: 0.4962\n",
            "Epoch 9/30\n",
            "391/391 [==============================] - 3s 7ms/step - loss: 1.2929 - accuracy: 0.5366 - val_loss: 1.4256 - val_accuracy: 0.4924\n",
            "Epoch 10/30\n",
            "391/391 [==============================] - 2s 5ms/step - loss: 1.2604 - accuracy: 0.5478 - val_loss: 1.4239 - val_accuracy: 0.4981\n",
            "Epoch 11/30\n",
            "391/391 [==============================] - 2s 5ms/step - loss: 1.2181 - accuracy: 0.5634 - val_loss: 1.4232 - val_accuracy: 0.5075\n",
            "Epoch 12/30\n",
            "391/391 [==============================] - 2s 5ms/step - loss: 1.1824 - accuracy: 0.5739 - val_loss: 1.4404 - val_accuracy: 0.4940\n",
            "Epoch 13/30\n",
            "391/391 [==============================] - 2s 5ms/step - loss: 1.1350 - accuracy: 0.5936 - val_loss: 1.4468 - val_accuracy: 0.5003\n",
            "Epoch 14/30\n",
            "391/391 [==============================] - 2s 6ms/step - loss: 1.0925 - accuracy: 0.6073 - val_loss: 1.4194 - val_accuracy: 0.5081\n",
            "Epoch 15/30\n",
            "391/391 [==============================] - 3s 6ms/step - loss: 1.0316 - accuracy: 0.6281 - val_loss: 1.4769 - val_accuracy: 0.5004\n",
            "Epoch 16/30\n",
            "391/391 [==============================] - 2s 5ms/step - loss: 0.9877 - accuracy: 0.6451 - val_loss: 1.4531 - val_accuracy: 0.5139\n",
            "Epoch 17/30\n",
            "391/391 [==============================] - 2s 5ms/step - loss: 0.9266 - accuracy: 0.6648 - val_loss: 1.5119 - val_accuracy: 0.5098\n",
            "Epoch 18/30\n",
            "391/391 [==============================] - 2s 5ms/step - loss: 0.8709 - accuracy: 0.6853 - val_loss: 1.5939 - val_accuracy: 0.5016\n",
            "Epoch 19/30\n",
            "391/391 [==============================] - 2s 5ms/step - loss: 0.8135 - accuracy: 0.7044 - val_loss: 1.5973 - val_accuracy: 0.5097\n",
            "Epoch 20/30\n",
            "391/391 [==============================] - 2s 6ms/step - loss: 0.7464 - accuracy: 0.7307 - val_loss: 1.6880 - val_accuracy: 0.5037\n",
            "Epoch 21/30\n",
            "391/391 [==============================] - 2s 6ms/step - loss: 0.6802 - accuracy: 0.7555 - val_loss: 1.7344 - val_accuracy: 0.5016\n",
            "Epoch 22/30\n",
            "391/391 [==============================] - 2s 5ms/step - loss: 0.6241 - accuracy: 0.7760 - val_loss: 1.8359 - val_accuracy: 0.5074\n",
            "Epoch 23/30\n",
            "391/391 [==============================] - 2s 5ms/step - loss: 0.5707 - accuracy: 0.7959 - val_loss: 2.0434 - val_accuracy: 0.4833\n",
            "Epoch 24/30\n",
            "391/391 [==============================] - 2s 5ms/step - loss: 0.5272 - accuracy: 0.8098 - val_loss: 1.9747 - val_accuracy: 0.5068\n",
            "Epoch 25/30\n",
            "391/391 [==============================] - 2s 5ms/step - loss: 0.4813 - accuracy: 0.8276 - val_loss: 2.1201 - val_accuracy: 0.4905\n",
            "Epoch 26/30\n",
            "391/391 [==============================] - 2s 6ms/step - loss: 0.4227 - accuracy: 0.8487 - val_loss: 2.1627 - val_accuracy: 0.5000\n",
            "Epoch 27/30\n",
            "391/391 [==============================] - 3s 7ms/step - loss: 0.3957 - accuracy: 0.8596 - val_loss: 2.3280 - val_accuracy: 0.4870\n",
            "Epoch 28/30\n",
            "391/391 [==============================] - 2s 6ms/step - loss: 0.3655 - accuracy: 0.8703 - val_loss: 2.4363 - val_accuracy: 0.5004\n",
            "Epoch 29/30\n",
            "391/391 [==============================] - 2s 5ms/step - loss: 0.3422 - accuracy: 0.8782 - val_loss: 2.5517 - val_accuracy: 0.4868\n",
            "Epoch 30/30\n",
            "391/391 [==============================] - 2s 5ms/step - loss: 0.3153 - accuracy: 0.8871 - val_loss: 2.7020 - val_accuracy: 0.4895\n"
          ]
        },
        {
          "output_type": "execute_result",
          "data": {
            "text/plain": [
              "<keras.callbacks.History at 0x7f3362bfd600>"
            ]
          },
          "metadata": {},
          "execution_count": 12
        }
      ],
      "source": [
        "model.fit(x_train_final,y_train_cat,batch_size=128,epochs=30,validation_data=(x_test_final,y_test_cat))"
      ]
    },
    {
      "cell_type": "code",
      "execution_count": 13,
      "metadata": {
        "id": "aKhp5C9AisXD"
      },
      "outputs": [],
      "source": [
        "x_train_final = x_train/255\n",
        "x_test_final = x_test/255"
      ]
    },
    {
      "cell_type": "code",
      "execution_count": 14,
      "metadata": {
        "id": "IXyt9axeisXE"
      },
      "outputs": [],
      "source": [
        "from keras.utils import to_categorical\n",
        "y_train_cat = to_categorical(y_train)\n",
        "y_test_cat = to_categorical(y_test)"
      ]
    },
    {
      "cell_type": "code",
      "execution_count": 15,
      "metadata": {
        "id": "C_d98znhisXF"
      },
      "outputs": [],
      "source": [
        "from keras.models import Sequential\n",
        "from keras.layers import Dense, Flatten, Conv2D, MaxPool2D"
      ]
    },
    {
      "cell_type": "code",
      "execution_count": 16,
      "metadata": {
        "id": "ad78E2fJisXF"
      },
      "outputs": [],
      "source": [
        "from keras.models import Sequential\n",
        "from keras.layers import Dense, Flatten, Conv2D, MaxPool2D\n",
        "\n",
        "model = Sequential()\n",
        "model.add(Conv2D(filters=32,kernel_size=(3,3),activation='relu',input_shape=(32,32,3)))\n",
        "model.add(Conv2D(filters=32,kernel_size=(3,3),activation='relu'))\n",
        "model.add(Conv2D(filters=32,kernel_size=(3,3),activation='relu'))\n",
        "model.add(MaxPool2D())\n",
        "model.add(Flatten())\n",
        "model.add(Dense(64,activation='relu'))\n",
        "model.add(Dense(32,activation='relu'))\n",
        "model.add(Dense(10,activation='softmax'))\n",
        "\n",
        "model.compile(loss = 'categorical_crossentropy', optimizer = 'adam' , metrics = ['accuracy'])"
      ]
    },
    {
      "cell_type": "code",
      "execution_count": 17,
      "metadata": {
        "colab": {
          "base_uri": "https://localhost:8080/"
        },
        "id": "1IXV5aVkisXH",
        "outputId": "ded6a0ad-d184-4f03-9d8d-f15799c70273"
      },
      "outputs": [
        {
          "output_type": "stream",
          "name": "stdout",
          "text": [
            "Model: \"sequential_1\"\n",
            "_________________________________________________________________\n",
            " Layer (type)                Output Shape              Param #   \n",
            "=================================================================\n",
            " conv2d (Conv2D)             (None, 30, 30, 32)        896       \n",
            "                                                                 \n",
            " conv2d_1 (Conv2D)           (None, 28, 28, 32)        9248      \n",
            "                                                                 \n",
            " conv2d_2 (Conv2D)           (None, 26, 26, 32)        9248      \n",
            "                                                                 \n",
            " max_pooling2d (MaxPooling2D  (None, 13, 13, 32)       0         \n",
            " )                                                               \n",
            "                                                                 \n",
            " flatten (Flatten)           (None, 5408)              0         \n",
            "                                                                 \n",
            " dense_4 (Dense)             (None, 64)                346176    \n",
            "                                                                 \n",
            " dense_5 (Dense)             (None, 32)                2080      \n",
            "                                                                 \n",
            " dense_6 (Dense)             (None, 10)                330       \n",
            "                                                                 \n",
            "=================================================================\n",
            "Total params: 367,978\n",
            "Trainable params: 367,978\n",
            "Non-trainable params: 0\n",
            "_________________________________________________________________\n"
          ]
        }
      ],
      "source": [
        "model.summary()"
      ]
    },
    {
      "cell_type": "code",
      "execution_count": 18,
      "metadata": {
        "colab": {
          "base_uri": "https://localhost:8080/"
        },
        "id": "hab9FxXsisXI",
        "outputId": "33864ea5-8d41-438c-8d97-0ba18ce478c6"
      },
      "outputs": [
        {
          "output_type": "stream",
          "name": "stdout",
          "text": [
            "Epoch 1/30\n",
            "391/391 [==============================] - 13s 13ms/step - loss: 1.5899 - accuracy: 0.4229 - val_loss: 1.3705 - val_accuracy: 0.5032\n",
            "Epoch 2/30\n",
            "391/391 [==============================] - 4s 9ms/step - loss: 1.2290 - accuracy: 0.5616 - val_loss: 1.1778 - val_accuracy: 0.5886\n",
            "Epoch 3/30\n",
            "391/391 [==============================] - 4s 10ms/step - loss: 1.0376 - accuracy: 0.6339 - val_loss: 1.0261 - val_accuracy: 0.6416\n",
            "Epoch 4/30\n",
            "391/391 [==============================] - 4s 11ms/step - loss: 0.9292 - accuracy: 0.6744 - val_loss: 0.9999 - val_accuracy: 0.6496\n",
            "Epoch 5/30\n",
            "391/391 [==============================] - 4s 10ms/step - loss: 0.8526 - accuracy: 0.7015 - val_loss: 0.9644 - val_accuracy: 0.6648\n",
            "Epoch 6/30\n",
            "391/391 [==============================] - 4s 10ms/step - loss: 0.7944 - accuracy: 0.7232 - val_loss: 0.9677 - val_accuracy: 0.6661\n",
            "Epoch 7/30\n",
            "391/391 [==============================] - 4s 10ms/step - loss: 0.7408 - accuracy: 0.7406 - val_loss: 0.9593 - val_accuracy: 0.6694\n",
            "Epoch 8/30\n",
            "391/391 [==============================] - 4s 10ms/step - loss: 0.6933 - accuracy: 0.7565 - val_loss: 0.9467 - val_accuracy: 0.6826\n",
            "Epoch 9/30\n",
            "391/391 [==============================] - 4s 10ms/step - loss: 0.6387 - accuracy: 0.7752 - val_loss: 0.9604 - val_accuracy: 0.6871\n",
            "Epoch 10/30\n",
            "391/391 [==============================] - 4s 11ms/step - loss: 0.5844 - accuracy: 0.7949 - val_loss: 0.9789 - val_accuracy: 0.6806\n",
            "Epoch 11/30\n",
            "391/391 [==============================] - 4s 10ms/step - loss: 0.5471 - accuracy: 0.8082 - val_loss: 1.0065 - val_accuracy: 0.6805\n",
            "Epoch 12/30\n",
            "391/391 [==============================] - 4s 10ms/step - loss: 0.5035 - accuracy: 0.8231 - val_loss: 1.0501 - val_accuracy: 0.6760\n",
            "Epoch 13/30\n",
            "391/391 [==============================] - 4s 9ms/step - loss: 0.4624 - accuracy: 0.8367 - val_loss: 1.0784 - val_accuracy: 0.6787\n",
            "Epoch 14/30\n",
            "391/391 [==============================] - 4s 10ms/step - loss: 0.4208 - accuracy: 0.8520 - val_loss: 1.1591 - val_accuracy: 0.6746\n",
            "Epoch 15/30\n",
            "391/391 [==============================] - 4s 10ms/step - loss: 0.3828 - accuracy: 0.8645 - val_loss: 1.2582 - val_accuracy: 0.6571\n",
            "Epoch 16/30\n",
            "391/391 [==============================] - 4s 9ms/step - loss: 0.3487 - accuracy: 0.8765 - val_loss: 1.3310 - val_accuracy: 0.6636\n",
            "Epoch 17/30\n",
            "391/391 [==============================] - 4s 10ms/step - loss: 0.3169 - accuracy: 0.8884 - val_loss: 1.4412 - val_accuracy: 0.6565\n",
            "Epoch 18/30\n",
            "391/391 [==============================] - 4s 10ms/step - loss: 0.2858 - accuracy: 0.8984 - val_loss: 1.5009 - val_accuracy: 0.6622\n",
            "Epoch 19/30\n",
            "391/391 [==============================] - 4s 9ms/step - loss: 0.2588 - accuracy: 0.9080 - val_loss: 1.5610 - val_accuracy: 0.6624\n",
            "Epoch 20/30\n",
            "391/391 [==============================] - 4s 11ms/step - loss: 0.2375 - accuracy: 0.9147 - val_loss: 1.6549 - val_accuracy: 0.6558\n",
            "Epoch 21/30\n",
            "391/391 [==============================] - 4s 10ms/step - loss: 0.2159 - accuracy: 0.9217 - val_loss: 1.8582 - val_accuracy: 0.6535\n",
            "Epoch 22/30\n",
            "391/391 [==============================] - 4s 10ms/step - loss: 0.1969 - accuracy: 0.9294 - val_loss: 1.9108 - val_accuracy: 0.6413\n",
            "Epoch 23/30\n",
            "391/391 [==============================] - 4s 11ms/step - loss: 0.1759 - accuracy: 0.9374 - val_loss: 1.9727 - val_accuracy: 0.6563\n",
            "Epoch 24/30\n",
            "391/391 [==============================] - 4s 10ms/step - loss: 0.1588 - accuracy: 0.9439 - val_loss: 2.0756 - val_accuracy: 0.6493\n",
            "Epoch 25/30\n",
            "391/391 [==============================] - 4s 9ms/step - loss: 0.1441 - accuracy: 0.9481 - val_loss: 2.2718 - val_accuracy: 0.6519\n",
            "Epoch 26/30\n",
            "391/391 [==============================] - 4s 10ms/step - loss: 0.1371 - accuracy: 0.9505 - val_loss: 2.4166 - val_accuracy: 0.6392\n",
            "Epoch 27/30\n",
            "391/391 [==============================] - 4s 10ms/step - loss: 0.1273 - accuracy: 0.9551 - val_loss: 2.5728 - val_accuracy: 0.6351\n",
            "Epoch 28/30\n",
            "391/391 [==============================] - 4s 10ms/step - loss: 0.1393 - accuracy: 0.9503 - val_loss: 2.4451 - val_accuracy: 0.6478\n",
            "Epoch 29/30\n",
            "391/391 [==============================] - 4s 9ms/step - loss: 0.1231 - accuracy: 0.9569 - val_loss: 2.6448 - val_accuracy: 0.6474\n",
            "Epoch 30/30\n",
            "391/391 [==============================] - 4s 10ms/step - loss: 0.1020 - accuracy: 0.9637 - val_loss: 2.7634 - val_accuracy: 0.6382\n"
          ]
        },
        {
          "output_type": "execute_result",
          "data": {
            "text/plain": [
              "<keras.callbacks.History at 0x7f32800eb1c0>"
            ]
          },
          "metadata": {},
          "execution_count": 18
        }
      ],
      "source": [
        "model.fit(x_train_final,y_train_cat,batch_size=128,epochs=30,validation_data=(x_test_final,y_test_cat))"
      ]
    },
    {
      "cell_type": "markdown",
      "source": [
        "we can see the clear diffrent between ANN and CNN between loss and accuracy but the cnn have overfitting problem we can fix this in under cell"
      ],
      "metadata": {
        "id": "ioHMLXhDMs8T"
      }
    },
    {
      "cell_type": "code",
      "execution_count": 22,
      "metadata": {
        "id": "9Ckr2lxoisXM",
        "colab": {
          "base_uri": "https://localhost:8080/"
        },
        "outputId": "71cebcb7-f763-47db-9af9-62d63f93d2d0"
      },
      "outputs": [
        {
          "output_type": "stream",
          "name": "stdout",
          "text": [
            "550570\n",
            "Num Params :  550570\n",
            "Epoch 1/30\n",
            "391/391 [==============================] - 24s 20ms/step - loss: 1.7302 - accuracy: 0.3637 - val_loss: 1.4618 - val_accuracy: 0.4651\n",
            "Epoch 2/30\n",
            "391/391 [==============================] - 6s 16ms/step - loss: 1.2754 - accuracy: 0.5398 - val_loss: 1.1130 - val_accuracy: 0.6057\n",
            "Epoch 3/30\n",
            "391/391 [==============================] - 7s 17ms/step - loss: 1.0513 - accuracy: 0.6277 - val_loss: 0.9434 - val_accuracy: 0.6682\n",
            "Epoch 4/30\n",
            "391/391 [==============================] - 7s 17ms/step - loss: 0.8899 - accuracy: 0.6844 - val_loss: 0.8688 - val_accuracy: 0.6980\n",
            "Epoch 5/30\n",
            "391/391 [==============================] - 7s 19ms/step - loss: 0.7800 - accuracy: 0.7273 - val_loss: 0.7301 - val_accuracy: 0.7483\n",
            "Epoch 6/30\n",
            "391/391 [==============================] - 7s 18ms/step - loss: 0.6961 - accuracy: 0.7571 - val_loss: 0.7185 - val_accuracy: 0.7531\n",
            "Epoch 7/30\n",
            "391/391 [==============================] - 8s 19ms/step - loss: 0.6370 - accuracy: 0.7767 - val_loss: 0.6681 - val_accuracy: 0.7714\n",
            "Epoch 8/30\n",
            "391/391 [==============================] - 7s 18ms/step - loss: 0.5799 - accuracy: 0.7952 - val_loss: 0.6241 - val_accuracy: 0.7855\n",
            "Epoch 9/30\n",
            "391/391 [==============================] - 7s 19ms/step - loss: 0.5379 - accuracy: 0.8118 - val_loss: 0.6258 - val_accuracy: 0.7901\n",
            "Epoch 10/30\n",
            "391/391 [==============================] - 6s 16ms/step - loss: 0.5000 - accuracy: 0.8237 - val_loss: 0.6280 - val_accuracy: 0.7926\n",
            "Epoch 11/30\n",
            "391/391 [==============================] - 8s 19ms/step - loss: 0.4692 - accuracy: 0.8343 - val_loss: 0.6314 - val_accuracy: 0.7915\n",
            "Epoch 12/30\n",
            "391/391 [==============================] - 7s 17ms/step - loss: 0.4330 - accuracy: 0.8477 - val_loss: 0.6136 - val_accuracy: 0.8004\n",
            "Epoch 13/30\n",
            "391/391 [==============================] - 6s 16ms/step - loss: 0.4090 - accuracy: 0.8548 - val_loss: 0.6460 - val_accuracy: 0.7915\n",
            "Epoch 14/30\n",
            "391/391 [==============================] - 7s 19ms/step - loss: 0.3834 - accuracy: 0.8648 - val_loss: 0.6401 - val_accuracy: 0.7965\n",
            "Epoch 15/30\n",
            "391/391 [==============================] - 7s 18ms/step - loss: 0.3648 - accuracy: 0.8727 - val_loss: 0.6293 - val_accuracy: 0.8039\n",
            "Epoch 16/30\n",
            "391/391 [==============================] - 7s 18ms/step - loss: 0.3361 - accuracy: 0.8791 - val_loss: 0.6739 - val_accuracy: 0.7995\n",
            "Epoch 17/30\n",
            "391/391 [==============================] - 7s 18ms/step - loss: 0.3216 - accuracy: 0.8843 - val_loss: 0.6472 - val_accuracy: 0.8009\n",
            "Epoch 18/30\n",
            "391/391 [==============================] - 7s 17ms/step - loss: 0.3117 - accuracy: 0.8905 - val_loss: 0.6535 - val_accuracy: 0.8093\n",
            "Epoch 19/30\n",
            "391/391 [==============================] - 6s 16ms/step - loss: 0.2971 - accuracy: 0.8933 - val_loss: 0.6505 - val_accuracy: 0.8052\n",
            "Epoch 20/30\n",
            "391/391 [==============================] - 7s 18ms/step - loss: 0.2828 - accuracy: 0.8987 - val_loss: 0.6784 - val_accuracy: 0.8068\n",
            "Epoch 21/30\n",
            "391/391 [==============================] - 7s 17ms/step - loss: 0.2658 - accuracy: 0.9044 - val_loss: 0.6988 - val_accuracy: 0.8068\n",
            "Epoch 22/30\n",
            "391/391 [==============================] - 7s 17ms/step - loss: 0.2558 - accuracy: 0.9096 - val_loss: 0.6809 - val_accuracy: 0.8089\n",
            "Epoch 23/30\n",
            "391/391 [==============================] - 8s 21ms/step - loss: 0.2465 - accuracy: 0.9116 - val_loss: 0.6781 - val_accuracy: 0.8069\n",
            "Epoch 24/30\n",
            "391/391 [==============================] - 7s 17ms/step - loss: 0.2368 - accuracy: 0.9140 - val_loss: 0.6650 - val_accuracy: 0.8142\n",
            "Epoch 25/30\n",
            "391/391 [==============================] - 8s 19ms/step - loss: 0.2296 - accuracy: 0.9187 - val_loss: 0.6797 - val_accuracy: 0.8157\n",
            "Epoch 26/30\n",
            "391/391 [==============================] - 7s 18ms/step - loss: 0.2227 - accuracy: 0.9194 - val_loss: 0.7555 - val_accuracy: 0.8070\n",
            "Epoch 27/30\n",
            "391/391 [==============================] - 8s 19ms/step - loss: 0.2170 - accuracy: 0.9229 - val_loss: 0.6870 - val_accuracy: 0.8155\n",
            "Epoch 28/30\n",
            "391/391 [==============================] - 7s 19ms/step - loss: 0.2110 - accuracy: 0.9252 - val_loss: 0.7191 - val_accuracy: 0.8181\n",
            "Epoch 29/30\n",
            "391/391 [==============================] - 6s 16ms/step - loss: 0.2134 - accuracy: 0.9247 - val_loss: 0.7176 - val_accuracy: 0.8084\n",
            "Epoch 30/30\n",
            "391/391 [==============================] - 6s 16ms/step - loss: 0.1999 - accuracy: 0.9294 - val_loss: 0.7622 - val_accuracy: 0.8083\n"
          ]
        },
        {
          "output_type": "execute_result",
          "data": {
            "text/plain": [
              "<keras.callbacks.History at 0x7f335051e590>"
            ]
          },
          "metadata": {},
          "execution_count": 22
        }
      ],
      "source": [
        "from keras.models import Sequential\n",
        "from keras.layers import Dense, Conv2D, MaxPool2D, Flatten, Dropout\n",
        "\n",
        "model = Sequential()\n",
        "model.add(Conv2D(filters = 32, kernel_size = (3,3), activation = 'relu', input_shape = (32,32,3), padding = 'same', kernel_initializer= 'he_uniform'))\n",
        "model.add(Conv2D(filters = 32, kernel_size = (3,3), activation = 'relu' ,padding = 'same',kernel_initializer= 'he_uniform'))\n",
        "model.add(MaxPool2D())\n",
        "model.add(Dropout(0.2))\n",
        "model.add(Conv2D(filters = 64, kernel_size = (3,3), activation = 'relu', padding = 'same' ,kernel_initializer= 'he_uniform'))\n",
        "model.add(Conv2D(filters = 64, kernel_size = (3,3), activation = 'relu' , padding = 'same',kernel_initializer= 'he_uniform'))\n",
        "model.add(MaxPool2D())\n",
        "model.add(Dropout(0.2))\n",
        "model.add(Conv2D(filters = 128, kernel_size = (3,3), activation = 'relu',padding = 'same',kernel_initializer= 'he_uniform'))\n",
        "model.add(Conv2D(filters = 128, kernel_size = (3,3), activation = 'relu',padding = 'same',kernel_initializer= 'he_uniform'))\n",
        "model.add(MaxPool2D())\n",
        "model.add(Dropout(0.2))\n",
        "model.add(Flatten())\n",
        "model.add(Dense(128, activation = 'relu'))\n",
        "model.add(Dense(10, activation = 'softmax',kernel_initializer= 'he_uniform'))\n",
        "\n",
        "model.compile(loss = 'categorical_crossentropy', optimizer = 'adam' , metrics = ['accuracy'])\n",
        "print(model.count_params())\n",
        "batch_size = 128\n",
        "epochs = 30\n",
        "\n",
        "print('Num Params : ', model.count_params())\n",
        "model.fit(x_train_final, y_train_cat,\n",
        "          batch_size = batch_size,\n",
        "          epochs = epochs,\n",
        "          verbose = 1,\n",
        "          validation_data = (x_test_final, y_test_cat))"
      ]
    },
    {
      "cell_type": "code",
      "source": [],
      "metadata": {
        "id": "Hg5Mp8_RmY2f"
      },
      "execution_count": null,
      "outputs": []
    }
  ],
  "metadata": {
    "kernelspec": {
      "display_name": "Python 3 (ipykernel)",
      "language": "python",
      "name": "python3"
    },
    "language_info": {
      "codemirror_mode": {
        "name": "ipython",
        "version": 3
      },
      "file_extension": ".py",
      "mimetype": "text/x-python",
      "name": "python",
      "nbconvert_exporter": "python",
      "pygments_lexer": "ipython3",
      "version": "3.9.12"
    },
    "colab": {
      "provenance": []
    },
    "accelerator": "GPU",
    "gpuClass": "standard"
  },
  "nbformat": 4,
  "nbformat_minor": 0
}