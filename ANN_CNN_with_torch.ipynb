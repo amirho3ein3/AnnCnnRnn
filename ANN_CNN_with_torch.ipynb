{
  "cells": [
    {
      "cell_type": "code",
      "execution_count": null,
      "metadata": {
        "id": "k8NeuWNCpoGQ"
      },
      "outputs": [],
      "source": [
        "import torch\n",
        "import matplotlib.pyplot as plt\n",
        "from torch import nn"
      ]
    },
    {
      "cell_type": "code",
      "execution_count": null,
      "metadata": {
        "colab": {
          "base_uri": "https://localhost:8080/"
        },
        "id": "fFOHVQJwlT59",
        "outputId": "d8f0f020-c928-4eb2-baf1-59728c6d7d65"
      },
      "outputs": [
        {
          "output_type": "execute_result",
          "data": {
            "text/plain": [
              "tensor([[ 0,  1,  2,  3,  4],\n",
              "        [ 5,  6,  7,  8,  9],\n",
              "        [10, 11, 12, 13, 14],\n",
              "        [15, 16, 17, 18, 19],\n",
              "        [20, 21, 22, 23, 24],\n",
              "        [25, 26, 27, 28, 29]])"
            ]
          },
          "metadata": {},
          "execution_count": 2
        }
      ],
      "source": [
        "torch.arange(0,30).view(6,5)"
      ]
    },
    {
      "cell_type": "code",
      "execution_count": null,
      "metadata": {
        "id": "fFYpvJVdlg3s"
      },
      "outputs": [],
      "source": [
        "x = torch.linspace(-5,5,1000).view(-1,1)"
      ]
    },
    {
      "cell_type": "markdown",
      "metadata": {
        "id": "oHq1ZRtarQNg"
      },
      "source": [
        "$y = 20sin(5x) + 6x^2 + tanh(x)$"
      ]
    },
    {
      "cell_type": "code",
      "execution_count": null,
      "metadata": {
        "id": "PB6C6fyMqh6L"
      },
      "outputs": [],
      "source": [
        "y = 20 * torch.sin(5 * x) + 6 * x**2 + torch.tanh(x)"
      ]
    },
    {
      "cell_type": "code",
      "source": [
        "x.shape"
      ],
      "metadata": {
        "colab": {
          "base_uri": "https://localhost:8080/"
        },
        "id": "7EQsfLg2FlLA",
        "outputId": "3b5612a5-4a04-4524-d40a-7a3e80573f41"
      },
      "execution_count": null,
      "outputs": [
        {
          "output_type": "execute_result",
          "data": {
            "text/plain": [
              "torch.Size([1000, 1])"
            ]
          },
          "metadata": {},
          "execution_count": 18
        }
      ]
    },
    {
      "cell_type": "code",
      "execution_count": null,
      "metadata": {
        "colab": {
          "base_uri": "https://localhost:8080/",
          "height": 309
        },
        "id": "Srt9XMEJr0eI",
        "outputId": "e1669b0d-903d-49e1-9420-9297791e3d31"
      },
      "outputs": [
        {
          "output_type": "execute_result",
          "data": {
            "text/plain": [
              "[<matplotlib.lines.Line2D at 0x7fec12a0ece0>]"
            ]
          },
          "metadata": {},
          "execution_count": 6
        },
        {
          "output_type": "display_data",
          "data": {
            "text/plain": [
              "<Figure size 400x300 with 1 Axes>"
            ],
            "image/png": "[encoded data removed]"
          },
          "metadata": {}
        }
      ],
      "source": [
        "plt.figure(figsize=(4,3))\n",
        "plt.plot(x,y)"
      ]
    },
    {
      "cell_type": "code",
      "execution_count": null,
      "metadata": {
        "id": "IBe0p7Bsr4kQ"
      },
      "outputs": [],
      "source": [
        "class MyNN(nn.Module):\n",
        "  def __init__(self):\n",
        "    super().__init__()\n",
        "    self.fc1 = nn.Linear(in_features=1 , out_features=20)\n",
        "    self.relu1 = nn.ReLU()\n",
        "    self.fc2 = nn.Linear(in_features=20 , out_features=20)\n",
        "    self.relu2 = nn.ReLU()\n",
        "    self.fc3 = nn.Linear(in_features=20 , out_features=1)\n",
        "  def forward(self, input):\n",
        "    y = self.fc1(input)\n",
        "    y = self.relu1(y)\n",
        "    y = self.fc2(y)\n",
        "    y = self.relu2(y)\n",
        "    y = self.fc3(y)\n",
        "    return y"
      ]
    },
    {
      "cell_type": "code",
      "execution_count": null,
      "metadata": {
        "id": "SQUzJZVLtF1z"
      },
      "outputs": [],
      "source": [
        "mymodel = MyNN()"
      ]
    },
    {
      "cell_type": "code",
      "execution_count": null,
      "metadata": {
        "id": "csT9Ifa7yS-p"
      },
      "outputs": [],
      "source": [
        "epochs = 15000\n",
        "criterion = nn.MSELoss()\n",
        "opt = torch.optim.Adam(mymodel.parameters())"
      ]
    },
    {
      "cell_type": "code",
      "execution_count": null,
      "metadata": {
        "colab": {
          "base_uri": "https://localhost:8080/"
        },
        "id": "F7mOZ0RjtL5S",
        "outputId": "6304ccbc-1071-42ad-b785-0a1fb77e670d"
      },
      "outputs": [
        {
          "output_type": "stream",
          "name": "stdout",
          "text": [
            "Epoch 0, loss :  4700.66650390625\n",
            "Epoch 1000, loss :  359.8387756347656\n",
            "Epoch 2000, loss :  238.13546752929688\n",
            "Epoch 3000, loss :  215.5143280029297\n",
            "Epoch 4000, loss :  198.04757690429688\n",
            "Epoch 5000, loss :  174.5831756591797\n",
            "Epoch 6000, loss :  159.47271728515625\n",
            "Epoch 7000, loss :  142.6320343017578\n",
            "Epoch 8000, loss :  136.00506591796875\n",
            "Epoch 9000, loss :  134.35899353027344\n",
            "Epoch 10000, loss :  133.98611450195312\n",
            "Epoch 11000, loss :  133.87367248535156\n",
            "Epoch 12000, loss :  133.82955932617188\n",
            "Epoch 13000, loss :  133.80979919433594\n",
            "Epoch 14000, loss :  133.80015563964844\n"
          ]
        }
      ],
      "source": [
        "losses = []\n",
        "for epoch in range(epochs):\n",
        "  output = mymodel.forward(x)\n",
        "  opt.zero_grad()\n",
        "  loss = criterion(y, output)\n",
        "  loss.backward()\n",
        "  opt.step()\n",
        "  losses.append(loss.item())\n",
        "  if epoch % 1000 == 0:\n",
        "    print(f'Epoch {epoch}, loss : ', loss.item())"
      ]
    },
    {
      "cell_type": "code",
      "execution_count": null,
      "metadata": {
        "colab": {
          "base_uri": "https://localhost:8080/",
          "height": 466
        },
        "id": "CeIVsa2-tNV7",
        "outputId": "23428890-07e2-4e71-d8a1-bc2bef978217"
      },
      "outputs": [
        {
          "output_type": "execute_result",
          "data": {
            "text/plain": [
              "[<matplotlib.lines.Line2D at 0x7fec128cb010>,\n",
              " <matplotlib.lines.Line2D at 0x7fec129a7820>]"
            ]
          },
          "metadata": {},
          "execution_count": 37
        },
        {
          "output_type": "display_data",
          "data": {
            "text/plain": [
              "<Figure size 640x480 with 1 Axes>"
            ],
            "image/png": "[encoded data removed]"
          },
          "metadata": {}
        }
      ],
      "source": [
        "plt.plot(x,y, x,output.detach())"
      ]
    },
    {
      "cell_type": "code",
      "execution_count": null,
      "metadata": {
        "id": "iKM0NNjn0Jkc"
      },
      "outputs": [],
      "source": [
        "class MyNN2(nn.Module):\n",
        "  def __init__(self):\n",
        "    super().__init__()\n",
        "    self.fc1 = nn.Linear(in_features=1 , out_features=20)\n",
        "    self.relu1 = nn.ReLU()\n",
        "    self.fc2 = nn.Linear(in_features=20 , out_features=20)\n",
        "    self.relu2 = nn.ReLU()\n",
        "    self.fc3 = nn.Linear(in_features=20 , out_features=1)\n",
        "  def forward(self, input):\n",
        "    y = self.fc1(input)\n",
        "    y = torch.sin(y)\n",
        "    y = self.fc2(y)\n",
        "    y = torch.sin(y)\n",
        "    y = self.fc3(y)\n",
        "    return y"
      ]
    },
    {
      "cell_type": "code",
      "execution_count": null,
      "metadata": {
        "id": "T6Bs9fo50dqV"
      },
      "outputs": [],
      "source": [
        "mymodel = MyNN2()"
      ]
    },
    {
      "cell_type": "code",
      "execution_count": null,
      "metadata": {
        "id": "hYuaYF3X0ds1"
      },
      "outputs": [],
      "source": [
        "epochs = 15000\n",
        "criterion = nn.MSELoss()\n",
        "opt = torch.optim.Adam(mymodel.parameters())"
      ]
    },
    {
      "cell_type": "code",
      "execution_count": null,
      "metadata": {
        "colab": {
          "base_uri": "https://localhost:8080/"
        },
        "id": "yL9Rdygz0dva",
        "outputId": "3883a6e1-3723-461f-9eca-85f05c321788"
      },
      "outputs": [
        {
          "output_type": "stream",
          "name": "stdout",
          "text": [
            "Epoch 0, loss :  4721.81396484375\n",
            "Epoch 1000, loss :  2780.660888671875\n",
            "Epoch 2000, loss :  1753.825439453125\n",
            "Epoch 3000, loss :  1071.554443359375\n",
            "Epoch 4000, loss :  654.0697631835938\n",
            "Epoch 5000, loss :  387.09844970703125\n",
            "Epoch 6000, loss :  216.4731903076172\n",
            "Epoch 7000, loss :  112.99189758300781\n",
            "Epoch 8000, loss :  59.5799446105957\n",
            "Epoch 9000, loss :  29.445554733276367\n",
            "Epoch 10000, loss :  12.265815734863281\n",
            "Epoch 11000, loss :  4.133877754211426\n",
            "Epoch 12000, loss :  1.045728325843811\n",
            "Epoch 13000, loss :  0.20716987550258636\n",
            "Epoch 14000, loss :  0.0652301087975502\n"
          ]
        }
      ],
      "source": [
        "losses = []\n",
        "for epoch in range(epochs):\n",
        "  output = mymodel.forward(x)\n",
        "  opt.zero_grad()\n",
        "  loss = criterion(y, output)\n",
        "  loss.backward()\n",
        "  opt.step()\n",
        "  losses.append(loss.item())\n",
        "  if epoch % 1000 == 0:\n",
        "    print(f'Epoch {epoch}, loss : ', loss.item())"
      ]
    },
    {
      "cell_type": "code",
      "execution_count": null,
      "metadata": {
        "colab": {
          "base_uri": "https://localhost:8080/",
          "height": 466
        },
        "id": "Yh6NNpke0d1e",
        "outputId": "a9121ba1-6b5b-45e2-c83f-7554eb42987b"
      },
      "outputs": [
        {
          "output_type": "execute_result",
          "data": {
            "text/plain": [
              "[<matplotlib.lines.Line2D at 0x7fec125e8d30>,\n",
              " <matplotlib.lines.Line2D at 0x7fec125e8340>]"
            ]
          },
          "metadata": {},
          "execution_count": 44
        },
        {
          "output_type": "display_data",
          "data": {
            "text/plain": [
              "<Figure size 640x480 with 1 Axes>"
            ],
            "image/png": "[encoded data removed]"
          },
          "metadata": {}
        }
      ],
      "source": [
        "plt.plot(x,y, x,output.detach())"
      ]
    },
    {
      "cell_type": "markdown",
      "metadata": {
        "id": "7uBFDNXF1OcW"
      },
      "source": [
        "## Part 2"
      ]
    },
    {
      "cell_type": "code",
      "execution_count": null,
      "metadata": {
        "id": "v2GCy25X1PkG"
      },
      "outputs": [],
      "source": [
        "import numpy as np\n",
        "import matplotlib.pyplot as plt\n",
        "import torch\n",
        "from torch import nn\n",
        "from torch.utils.data import DataLoader\n",
        "from torchvision.datasets import MNIST\n",
        "from torchvision import transforms\n",
        "from time import time"
      ]
    },
    {
      "cell_type": "code",
      "execution_count": null,
      "metadata": {
        "id": "5WqTYzyY3HSA"
      },
      "outputs": [],
      "source": [
        "mytransforms = transforms.Compose([\n",
        "                                   transforms.ToTensor(),\n",
        "                                   transforms.Normalize(0.5,0.5)\n",
        "])"
      ]
    },
    {
      "cell_type": "code",
      "execution_count": null,
      "metadata": {
        "id": "e4pbEdX83eEJ"
      },
      "outputs": [],
      "source": [
        "train_data = MNIST('./data', download = True, train = True, transform=mytransforms)\n",
        "test_data  = MNIST('./data', download = False, train = False, transform=mytransforms)"
      ]
    },
    {
      "cell_type": "code",
      "execution_count": null,
      "metadata": {
        "id": "Wv2X-R4K3f2S"
      },
      "outputs": [],
      "source": [
        "train_loader = DataLoader(train_data, batch_size = 64, num_workers = 2)\n",
        "test_loader = DataLoader(test_data, batch_size = 64, num_workers = 2)"
      ]
    },
    {
      "cell_type": "code",
      "execution_count": null,
      "metadata": {
        "id": "UlxvrFN65Aa4"
      },
      "outputs": [],
      "source": [
        "class MNIST_Classifier(nn.Module):\n",
        "  def __init__(self):\n",
        "    super().__init__()\n",
        "    self.conv1 = nn.Conv2d(1, 16, kernel_size = 3)\n",
        "    self.relu1 = nn.ReLU()\n",
        "    self.conv2 = nn.Conv2d(16 , 16 , kernel_size = 3)\n",
        "    self.relu2 = nn.ReLU()\n",
        "    self.pool1 = nn.MaxPool2d(kernel_size = 2, stride = 2)\n",
        "    self.flatten= nn.Flatten()\n",
        "    self.fc1 = nn.Linear(in_features = 12*12*16 , out_features= 10)\n",
        "\n",
        "  def forward(self, input):\n",
        "    y = self.conv1(input)\n",
        "    y = self.relu1(y)\n",
        "    y = self.conv2(y)\n",
        "    y = self.relu2(y)\n",
        "    y = self.pool1(y)\n",
        "    y = self.flatten(y)\n",
        "    y = self.fc1(y)\n",
        "    return y"
      ]
    },
    {
      "cell_type": "code",
      "execution_count": null,
      "metadata": {
        "id": "0Lxsd_oW5aau"
      },
      "outputs": [],
      "source": [
        "device = ('cuda' if torch.cuda.is_available() else 'cpu')\n",
        "mymodel = MNIST_Classifier().to(device)"
      ]
    },
    {
      "cell_type": "code",
      "execution_count": null,
      "metadata": {
        "colab": {
          "base_uri": "https://localhost:8080/"
        },
        "id": "kvEz3ddF8BPC",
        "outputId": "e060f3df-f86f-4425-f0e3-f9b51627fc7d"
      },
      "outputs": [
        {
          "output_type": "stream",
          "name": "stdout",
          "text": [
            "Epoch 0, loss :  0.20521, accuracy :  0.94075,  val_loss :  0.08464, val_accuracy :  0.97220, time :  50.4\n",
            "Epoch 1, loss :  0.06641, accuracy :  0.98038,  val_loss :  0.05566, val_accuracy :  0.98330, time :  43.5\n",
            "Epoch 2, loss :  0.04805, accuracy :  0.98555,  val_loss :  0.04890, val_accuracy :  0.98410, time :  44.3\n",
            "Epoch 3, loss :  0.03844, accuracy :  0.98843,  val_loss :  0.04604, val_accuracy :  0.98590, time :  43.3\n",
            "Epoch 4, loss :  0.03110, accuracy :  0.99085,  val_loss :  0.04764, val_accuracy :  0.98500, time :  45.7\n",
            "Epoch 5, loss :  0.02489, accuracy :  0.99328,  val_loss :  0.04957, val_accuracy :  0.98500, time :  43.7\n",
            "Epoch 6, loss :  0.01980, accuracy :  0.99473,  val_loss :  0.05113, val_accuracy :  0.98550, time :  45.0\n",
            "Epoch 7, loss :  0.01604, accuracy :  0.99557,  val_loss :  0.06204, val_accuracy :  0.98500, time :  43.7\n",
            "Epoch 8, loss :  0.01363, accuracy :  0.99592,  val_loss :  0.06458, val_accuracy :  0.98330, time :  42.7\n",
            "Epoch 9, loss :  0.01120, accuracy :  0.99682,  val_loss :  0.07676, val_accuracy :  0.98280, time :  43.2\n"
          ]
        }
      ],
      "source": [
        "epochs = 10\n",
        "criterion = nn.CrossEntropyLoss()\n",
        "opt = torch.optim.Adam(mymodel.parameters())\n",
        "losses = [] # Train Losses in different epochs\n",
        "val_losses = []# Val Losses in different epochs\n",
        "train_accuracy = []\n",
        "val_accuracy = []\n",
        "\n",
        "for epoch in range(epochs):\n",
        "  tic = time() # Start of epoch\n",
        "  # Train\n",
        "  mymodel = mymodel.train()\n",
        "  batch_losses = []\n",
        "  epoch_corrects = 0 # train corrects\n",
        "  for batch in train_loader:\n",
        "    input = batch[0].to(device) # Images\n",
        "    target = batch[1].to(device) # Labels\n",
        "    output = mymodel.forward(input)\n",
        "    opt.zero_grad()\n",
        "    loss = criterion(output, target)\n",
        "    loss.backward()\n",
        "    opt.step()\n",
        "    batch_losses.append(loss.item())\n",
        "    batch_corrects = sum(target == output.argmax(dim = 1))\n",
        "    epoch_corrects += batch_corrects\n",
        "  epoch_loss = np.mean(batch_losses)\n",
        "  losses.append(epoch_loss)\n",
        "  epoch_accuracy = epoch_corrects / len(train_data)\n",
        "  train_accuracy.append(epoch_accuracy)\n",
        "  train_string = f\"Epoch {epoch}, loss : {epoch_loss: 0.5f}, accuracy : {epoch_accuracy: 0.5f}, \"\n",
        "\n",
        "  mymodel = mymodel.eval() ### To disable dropout\n",
        "  # Validation\n",
        "  batch_losses = []\n",
        "  epoch_corrects = 0 # val corrects\n",
        "  for batch in test_loader:\n",
        "    input = batch[0].to(device) # Images\n",
        "    target = batch[1].to(device) # Labels\n",
        "    output = mymodel.forward(input)\n",
        "    with torch.no_grad():\n",
        "      loss = criterion(output, target)\n",
        "      batch_losses.append(loss.item())\n",
        "      batch_corrects = sum(target == output.argmax(dim = 1))\n",
        "      epoch_corrects += batch_corrects\n",
        "  epoch_loss = np.mean(batch_losses)\n",
        "  val_losses.append(epoch_loss)\n",
        "  epoch_accuracy = epoch_corrects / len(test_data)\n",
        "  val_accuracy.append(epoch_accuracy)\n",
        "  toc = time() #End of epoch\n",
        "  val_string = f\" val_loss : {epoch_loss: 0.5f}, val_accuracy : {epoch_accuracy: 0.5f}, time : {toc - tic: 0.1f}\"\n",
        "  print(train_string + val_string)\n"
      ]
    },
    {
      "cell_type": "code",
      "execution_count": null,
      "metadata": {
        "colab": {
          "base_uri": "https://localhost:8080/"
        },
        "id": "w2wHpcLq8zH0",
        "outputId": "d6c99a19-8572-43fb-c2a0-483ebc7f1ea3"
      },
      "outputs": [
        {
          "output_type": "stream",
          "name": "stdout",
          "text": [
            " val_loss :  0.07676, val_accuracy :  62.59872, time :  48.3\n"
          ]
        }
      ],
      "source": [
        "epoch_corrects = 0\n",
        "for batch in test_loader:\n",
        "    input = batch[0].to(device) # Images\n",
        "    target = batch[1].to(device) # Labels\n",
        "\n",
        "    output = mymodel.forward(input)\n",
        "    with torch.no_grad():\n",
        "      loss = criterion(output, target)\n",
        "      batch_losses.append(loss.item())\n",
        "      batch_corrects = sum(target == output.argmax(dim = 1))\n",
        "      # print(batch_corrects)\n",
        "      epoch_corrects += batch_corrects\n",
        "epoch_loss = np.mean(batch_losses)\n",
        "# val_losses.append(epoch_loss)\n",
        "epoch_accuracy = epoch_corrects / len(test_loader)\n",
        "# val_accuracy.append(epoch_accuracy)\n",
        "toc = time() #End of epoch\n",
        "val_string = f\" val_loss : {epoch_loss: 0.5f}, val_accuracy : {epoch_accuracy: 0.5f}, time : {toc - tic: 0.1f}\"\n",
        "print(val_string)"
      ]
    },
    {
      "cell_type": "code",
      "execution_count": null,
      "metadata": {
        "colab": {
          "base_uri": "https://localhost:8080/"
        },
        "id": "rkZ9GE6C_BYW",
        "outputId": "deee676e-131c-4066-f089-331ac8ac83c2"
      },
      "outputs": [
        {
          "output_type": "execute_result",
          "data": {
            "text/plain": [
              "tensor(62.5987)"
            ]
          },
          "metadata": {},
          "execution_count": 19
        }
      ],
      "source": [
        "epoch_accuracy"
      ]
    }
  ],
  "metadata": {
    "colab": {
      "provenance": []
    },
    "kernelspec": {
      "display_name": "Python 3",
      "name": "python3"
    },
    "language_info": {
      "name": "python"
    }
  },
  "nbformat": 4,
  "nbformat_minor": 0
}