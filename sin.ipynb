{
  "nbformat": 4,
  "nbformat_minor": 0,
  "metadata": {
    "colab": {
      "provenance": []
    },
    "kernelspec": {
      "name": "python3",
      "display_name": "Python 3"
    },
    "language_info": {
      "name": "python"
    },
    "accelerator": "GPU",
    "gpuClass": "standard"
  },
  "cells": [
    {
      "cell_type": "code",
      "execution_count": null,
      "metadata": {
        "id": "n551PmTBciJp"
      },
      "outputs": [],
      "source": [
        "import numpy as np\n",
        "import pandas as pd\n",
        "import tensorflow as tf"
      ]
    },
    {
      "cell_type": "code",
      "source": [
        "x=(np.arange(-1080,1080,0.001)*np.pi/180).reshape(-1,1)\n",
        "y=np.sin(x)"
      ],
      "metadata": {
        "id": "U8EzY5n9ckYQ"
      },
      "execution_count": null,
      "outputs": []
    },
    {
      "cell_type": "code",
      "source": [
        "model=tf.keras.models.Sequential()\n",
        "model.add(tf.keras.layers.Dense(128,activation='sigmoid'))\n",
        "model.add(tf.keras.layers.Dense(256,activation='sigmoid'))\n",
        "model.add(tf.keras.layers.Dense(128,activation='sigmoid'))\n",
        "model.add(tf.keras.layers.Dense(1))"
      ],
      "metadata": {
        "id": "qbjIaxgkcsJK"
      },
      "execution_count": null,
      "outputs": []
    },
    {
      "cell_type": "code",
      "source": [
        "model.compile(optimizer='adam',loss='mean_squared_error',metrics=['mean_squared_error'])"
      ],
      "metadata": {
        "id": "6oVrPvtjc0wi"
      },
      "execution_count": null,
      "outputs": []
    },
    {
      "cell_type": "code",
      "source": [
        "model.fit(x,y,epochs=100,batch_size=1024)"
      ],
      "metadata": {
        "colab": {
          "base_uri": "https://localhost:8080/"
        },
        "id": "lSrIndPYc3tR",
        "outputId": "781a902f-e1e1-414b-ff2f-9b621bf6dcdb"
      },
      "execution_count": null,
      "outputs": [
        {
          "output_type": "stream",
          "name": "stdout",
          "text": [
            "Epoch 1/100\n",
            "2110/2110 [==============================] - 10s 4ms/step - loss: 0.4857 - mean_squared_error: 0.4857\n",
            "Epoch 2/100\n",
            "2110/2110 [==============================] - 8s 4ms/step - loss: 0.4812 - mean_squared_error: 0.4812\n",
            "Epoch 3/100\n",
            "2110/2110 [==============================] - 8s 4ms/step - loss: 0.4802 - mean_squared_error: 0.4802\n",
            "Epoch 4/100\n",
            "2110/2110 [==============================] - 8s 4ms/step - loss: 0.4599 - mean_squared_error: 0.4599\n",
            "Epoch 5/100\n",
            "2110/2110 [==============================] - 8s 4ms/step - loss: 0.1929 - mean_squared_error: 0.1929\n",
            "Epoch 6/100\n",
            "2110/2110 [==============================] - 9s 4ms/step - loss: 7.6302e-04 - mean_squared_error: 7.6302e-04\n",
            "Epoch 7/100\n",
            "2110/2110 [==============================] - 9s 4ms/step - loss: 2.8806e-04 - mean_squared_error: 2.8806e-04\n",
            "Epoch 8/100\n",
            "2110/2110 [==============================] - 8s 4ms/step - loss: 2.0414e-04 - mean_squared_error: 2.0414e-04\n",
            "Epoch 9/100\n",
            "2110/2110 [==============================] - 9s 4ms/step - loss: 1.6381e-04 - mean_squared_error: 1.6381e-04\n",
            "Epoch 10/100\n",
            "2110/2110 [==============================] - 8s 4ms/step - loss: 1.3949e-04 - mean_squared_error: 1.3949e-04\n",
            "Epoch 11/100\n",
            "2110/2110 [==============================] - 8s 4ms/step - loss: 1.2853e-04 - mean_squared_error: 1.2853e-04\n",
            "Epoch 12/100\n",
            "2110/2110 [==============================] - 8s 4ms/step - loss: 1.1547e-04 - mean_squared_error: 1.1547e-04\n",
            "Epoch 13/100\n",
            "2110/2110 [==============================] - 8s 4ms/step - loss: 1.1148e-04 - mean_squared_error: 1.1148e-04\n",
            "Epoch 14/100\n",
            "2110/2110 [==============================] - 8s 4ms/step - loss: 1.0232e-04 - mean_squared_error: 1.0232e-04\n",
            "Epoch 15/100\n",
            "2110/2110 [==============================] - 8s 4ms/step - loss: 1.0014e-04 - mean_squared_error: 1.0014e-04\n",
            "Epoch 16/100\n",
            "2110/2110 [==============================] - 8s 4ms/step - loss: 9.4521e-05 - mean_squared_error: 9.4521e-05\n",
            "Epoch 17/100\n",
            "2110/2110 [==============================] - 8s 4ms/step - loss: 9.1926e-05 - mean_squared_error: 9.1926e-05\n",
            "Epoch 18/100\n",
            "2110/2110 [==============================] - 8s 4ms/step - loss: 8.8691e-05 - mean_squared_error: 8.8691e-05\n",
            "Epoch 19/100\n",
            "2110/2110 [==============================] - 7s 4ms/step - loss: 9.2241e-05 - mean_squared_error: 9.2241e-05\n",
            "Epoch 20/100\n",
            "2110/2110 [==============================] - 8s 4ms/step - loss: 8.2850e-05 - mean_squared_error: 8.2850e-05\n",
            "Epoch 21/100\n",
            "2110/2110 [==============================] - 8s 4ms/step - loss: 8.3107e-05 - mean_squared_error: 8.3107e-05\n",
            "Epoch 22/100\n",
            "2110/2110 [==============================] - 7s 4ms/step - loss: 8.3060e-05 - mean_squared_error: 8.3060e-05\n",
            "Epoch 23/100\n",
            "2110/2110 [==============================] - 8s 4ms/step - loss: 8.1751e-05 - mean_squared_error: 8.1751e-05\n",
            "Epoch 24/100\n",
            "2110/2110 [==============================] - 8s 4ms/step - loss: 7.8915e-05 - mean_squared_error: 7.8915e-05\n",
            "Epoch 25/100\n",
            "2110/2110 [==============================] - 8s 4ms/step - loss: 7.9578e-05 - mean_squared_error: 7.9578e-05\n",
            "Epoch 26/100\n",
            "2110/2110 [==============================] - 8s 4ms/step - loss: 7.7775e-05 - mean_squared_error: 7.7775e-05\n",
            "Epoch 27/100\n",
            "2110/2110 [==============================] - 8s 4ms/step - loss: 7.5163e-05 - mean_squared_error: 7.5163e-05\n",
            "Epoch 28/100\n",
            "2110/2110 [==============================] - 8s 4ms/step - loss: 7.4874e-05 - mean_squared_error: 7.4874e-05\n",
            "Epoch 29/100\n",
            "2110/2110 [==============================] - 8s 4ms/step - loss: 7.5147e-05 - mean_squared_error: 7.5147e-05\n",
            "Epoch 30/100\n",
            "2110/2110 [==============================] - 8s 4ms/step - loss: 7.5193e-05 - mean_squared_error: 7.5193e-05\n",
            "Epoch 31/100\n",
            "2110/2110 [==============================] - 8s 4ms/step - loss: 7.4295e-05 - mean_squared_error: 7.4295e-05\n",
            "Epoch 32/100\n",
            "2110/2110 [==============================] - 8s 4ms/step - loss: 7.2250e-05 - mean_squared_error: 7.2250e-05\n",
            "Epoch 33/100\n",
            "2110/2110 [==============================] - 7s 4ms/step - loss: 7.2970e-05 - mean_squared_error: 7.2970e-05\n",
            "Epoch 34/100\n",
            "2110/2110 [==============================] - 8s 4ms/step - loss: 6.9616e-05 - mean_squared_error: 6.9616e-05\n",
            "Epoch 35/100\n",
            "2110/2110 [==============================] - 8s 4ms/step - loss: 6.8331e-05 - mean_squared_error: 6.8331e-05\n",
            "Epoch 36/100\n",
            "2110/2110 [==============================] - 7s 4ms/step - loss: 7.1213e-05 - mean_squared_error: 7.1213e-05\n",
            "Epoch 37/100\n",
            "2110/2110 [==============================] - 8s 4ms/step - loss: 7.0191e-05 - mean_squared_error: 7.0191e-05\n",
            "Epoch 38/100\n",
            "2110/2110 [==============================] - 8s 4ms/step - loss: 6.4910e-05 - mean_squared_error: 6.4910e-05\n",
            "Epoch 39/100\n",
            "2110/2110 [==============================] - 8s 4ms/step - loss: 6.7591e-05 - mean_squared_error: 6.7591e-05\n",
            "Epoch 40/100\n",
            "2110/2110 [==============================] - 8s 4ms/step - loss: 6.7338e-05 - mean_squared_error: 6.7338e-05\n",
            "Epoch 41/100\n",
            "2110/2110 [==============================] - 8s 4ms/step - loss: 6.8354e-05 - mean_squared_error: 6.8354e-05\n",
            "Epoch 42/100\n",
            "2110/2110 [==============================] - 8s 4ms/step - loss: 6.3484e-05 - mean_squared_error: 6.3484e-05\n",
            "Epoch 43/100\n",
            "2110/2110 [==============================] - 8s 4ms/step - loss: 6.5770e-05 - mean_squared_error: 6.5770e-05\n",
            "Epoch 44/100\n",
            "2110/2110 [==============================] - 8s 4ms/step - loss: 6.3033e-05 - mean_squared_error: 6.3033e-05\n",
            "Epoch 45/100\n",
            "2110/2110 [==============================] - 8s 4ms/step - loss: 6.5284e-05 - mean_squared_error: 6.5284e-05\n",
            "Epoch 46/100\n",
            "2110/2110 [==============================] - 8s 4ms/step - loss: 6.2148e-05 - mean_squared_error: 6.2148e-05\n",
            "Epoch 47/100\n",
            "2110/2110 [==============================] - 8s 4ms/step - loss: 6.1530e-05 - mean_squared_error: 6.1530e-05\n",
            "Epoch 48/100\n",
            "2110/2110 [==============================] - 8s 4ms/step - loss: 6.6040e-05 - mean_squared_error: 6.6040e-05\n",
            "Epoch 49/100\n",
            "2110/2110 [==============================] - 8s 4ms/step - loss: 6.1482e-05 - mean_squared_error: 6.1482e-05\n",
            "Epoch 50/100\n",
            "2110/2110 [==============================] - 8s 4ms/step - loss: 6.1158e-05 - mean_squared_error: 6.1158e-05\n",
            "Epoch 51/100\n",
            "2110/2110 [==============================] - 8s 4ms/step - loss: 6.2279e-05 - mean_squared_error: 6.2279e-05\n",
            "Epoch 52/100\n",
            "2110/2110 [==============================] - 8s 4ms/step - loss: 5.9819e-05 - mean_squared_error: 5.9819e-05\n",
            "Epoch 53/100\n",
            "2110/2110 [==============================] - 8s 4ms/step - loss: 6.1077e-05 - mean_squared_error: 6.1077e-05\n",
            "Epoch 54/100\n",
            "2110/2110 [==============================] - 8s 4ms/step - loss: 6.1088e-05 - mean_squared_error: 6.1088e-05\n",
            "Epoch 55/100\n",
            "2110/2110 [==============================] - 8s 4ms/step - loss: 6.1032e-05 - mean_squared_error: 6.1032e-05\n",
            "Epoch 56/100\n",
            "2110/2110 [==============================] - 8s 4ms/step - loss: 5.8077e-05 - mean_squared_error: 5.8077e-05\n",
            "Epoch 57/100\n",
            "2110/2110 [==============================] - 8s 4ms/step - loss: 6.1232e-05 - mean_squared_error: 6.1232e-05\n",
            "Epoch 58/100\n",
            "2110/2110 [==============================] - 8s 4ms/step - loss: 5.7667e-05 - mean_squared_error: 5.7667e-05\n",
            "Epoch 59/100\n",
            "2110/2110 [==============================] - 8s 4ms/step - loss: 5.9375e-05 - mean_squared_error: 5.9375e-05\n",
            "Epoch 60/100\n",
            "2110/2110 [==============================] - 8s 4ms/step - loss: 5.9074e-05 - mean_squared_error: 5.9074e-05\n",
            "Epoch 61/100\n",
            "2110/2110 [==============================] - 7s 4ms/step - loss: 5.9193e-05 - mean_squared_error: 5.9193e-05\n",
            "Epoch 62/100\n",
            "2110/2110 [==============================] - 8s 4ms/step - loss: 5.7915e-05 - mean_squared_error: 5.7915e-05\n",
            "Epoch 63/100\n",
            "2110/2110 [==============================] - 8s 4ms/step - loss: 5.7016e-05 - mean_squared_error: 5.7016e-05\n",
            "Epoch 64/100\n",
            "2110/2110 [==============================] - 8s 4ms/step - loss: 5.9364e-05 - mean_squared_error: 5.9364e-05\n",
            "Epoch 65/100\n",
            "2110/2110 [==============================] - 8s 4ms/step - loss: 5.9164e-05 - mean_squared_error: 5.9164e-05\n",
            "Epoch 66/100\n",
            "2110/2110 [==============================] - 7s 4ms/step - loss: 5.5366e-05 - mean_squared_error: 5.5366e-05\n",
            "Epoch 67/100\n",
            "2110/2110 [==============================] - 8s 4ms/step - loss: 5.6750e-05 - mean_squared_error: 5.6750e-05\n",
            "Epoch 68/100\n",
            "2110/2110 [==============================] - 8s 4ms/step - loss: 5.7552e-05 - mean_squared_error: 5.7552e-05\n",
            "Epoch 69/100\n",
            "2110/2110 [==============================] - 8s 4ms/step - loss: 5.6316e-05 - mean_squared_error: 5.6316e-05\n",
            "Epoch 70/100\n",
            "2110/2110 [==============================] - 8s 4ms/step - loss: 5.6913e-05 - mean_squared_error: 5.6913e-05\n",
            "Epoch 71/100\n",
            "2110/2110 [==============================] - 8s 4ms/step - loss: 5.7430e-05 - mean_squared_error: 5.7430e-05\n",
            "Epoch 72/100\n",
            "2110/2110 [==============================] - 8s 4ms/step - loss: 5.6222e-05 - mean_squared_error: 5.6222e-05\n",
            "Epoch 73/100\n",
            "2110/2110 [==============================] - 8s 4ms/step - loss: 5.6948e-05 - mean_squared_error: 5.6948e-05\n",
            "Epoch 74/100\n",
            "2110/2110 [==============================] - 8s 4ms/step - loss: 5.5354e-05 - mean_squared_error: 5.5354e-05\n",
            "Epoch 75/100\n",
            "2110/2110 [==============================] - 8s 4ms/step - loss: 5.5614e-05 - mean_squared_error: 5.5614e-05\n",
            "Epoch 76/100\n",
            "2110/2110 [==============================] - 8s 4ms/step - loss: 5.7343e-05 - mean_squared_error: 5.7343e-05\n",
            "Epoch 77/100\n",
            "2110/2110 [==============================] - 8s 4ms/step - loss: 5.6864e-05 - mean_squared_error: 5.6864e-05\n",
            "Epoch 78/100\n",
            "2110/2110 [==============================] - 8s 4ms/step - loss: 5.3794e-05 - mean_squared_error: 5.3794e-05\n",
            "Epoch 79/100\n",
            "2110/2110 [==============================] - 8s 4ms/step - loss: 5.6154e-05 - mean_squared_error: 5.6154e-05\n",
            "Epoch 80/100\n",
            "2110/2110 [==============================] - 8s 4ms/step - loss: 5.4100e-05 - mean_squared_error: 5.4100e-05\n",
            "Epoch 81/100\n",
            "2110/2110 [==============================] - 8s 4ms/step - loss: 5.6394e-05 - mean_squared_error: 5.6394e-05\n",
            "Epoch 82/100\n",
            "2110/2110 [==============================] - 8s 4ms/step - loss: 5.7157e-05 - mean_squared_error: 5.7157e-05\n",
            "Epoch 83/100\n",
            "2110/2110 [==============================] - 8s 4ms/step - loss: 5.2450e-05 - mean_squared_error: 5.2450e-05\n",
            "Epoch 84/100\n",
            "2110/2110 [==============================] - 8s 4ms/step - loss: 5.4080e-05 - mean_squared_error: 5.4080e-05\n",
            "Epoch 85/100\n",
            "2110/2110 [==============================] - 8s 4ms/step - loss: 5.4024e-05 - mean_squared_error: 5.4024e-05\n",
            "Epoch 86/100\n",
            "2110/2110 [==============================] - 8s 4ms/step - loss: 5.4140e-05 - mean_squared_error: 5.4140e-05\n",
            "Epoch 87/100\n",
            "2110/2110 [==============================] - 8s 4ms/step - loss: 5.2242e-05 - mean_squared_error: 5.2242e-05\n",
            "Epoch 88/100\n",
            "2110/2110 [==============================] - 8s 4ms/step - loss: 5.3770e-05 - mean_squared_error: 5.3770e-05\n",
            "Epoch 89/100\n",
            "2110/2110 [==============================] - 8s 4ms/step - loss: 5.2940e-05 - mean_squared_error: 5.2940e-05\n",
            "Epoch 90/100\n",
            "2110/2110 [==============================] - 8s 4ms/step - loss: 5.1577e-05 - mean_squared_error: 5.1577e-05\n",
            "Epoch 91/100\n",
            "2110/2110 [==============================] - 8s 4ms/step - loss: 5.4129e-05 - mean_squared_error: 5.4129e-05\n",
            "Epoch 92/100\n",
            "2110/2110 [==============================] - 8s 4ms/step - loss: 5.3808e-05 - mean_squared_error: 5.3808e-05\n",
            "Epoch 93/100\n",
            "2110/2110 [==============================] - 8s 4ms/step - loss: 5.1663e-05 - mean_squared_error: 5.1663e-05\n",
            "Epoch 94/100\n",
            "2110/2110 [==============================] - 8s 4ms/step - loss: 5.2874e-05 - mean_squared_error: 5.2874e-05\n",
            "Epoch 95/100\n",
            "2110/2110 [==============================] - 8s 4ms/step - loss: 5.1293e-05 - mean_squared_error: 5.1293e-05\n",
            "Epoch 96/100\n",
            "2110/2110 [==============================] - 8s 4ms/step - loss: 5.1344e-05 - mean_squared_error: 5.1344e-05\n",
            "Epoch 97/100\n",
            "2110/2110 [==============================] - 7s 4ms/step - loss: 5.1910e-05 - mean_squared_error: 5.1910e-05\n",
            "Epoch 98/100\n",
            "2110/2110 [==============================] - 8s 4ms/step - loss: 5.1187e-05 - mean_squared_error: 5.1187e-05\n",
            "Epoch 99/100\n",
            "2110/2110 [==============================] - 8s 4ms/step - loss: 5.1987e-05 - mean_squared_error: 5.1987e-05\n",
            "Epoch 100/100\n",
            "2110/2110 [==============================] - 8s 4ms/step - loss: 5.2601e-05 - mean_squared_error: 5.2601e-05\n"
          ]
        },
        {
          "output_type": "execute_result",
          "data": {
            "text/plain": [
              "<keras.callbacks.History at 0x7fd27f649c30>"
            ]
          },
          "metadata": {},
          "execution_count": 53
        }
      ]
    },
    {
      "cell_type": "code",
      "source": [
        "model.predict([360*np.pi/180])"
      ],
      "metadata": {
        "colab": {
          "base_uri": "https://localhost:8080/"
        },
        "id": "B9nw91hpc65X",
        "outputId": "1864f8c5-d88b-447f-a95b-fbe3ce72761a"
      },
      "execution_count": null,
      "outputs": [
        {
          "output_type": "stream",
          "name": "stdout",
          "text": [
            "1/1 [==============================] - 0s 72ms/step\n"
          ]
        },
        {
          "output_type": "execute_result",
          "data": {
            "text/plain": [
              "array([[-0.00131813]], dtype=float32)"
            ]
          },
          "metadata": {},
          "execution_count": 54
        }
      ]
    },
    {
      "cell_type": "code",
      "source": [
        "np.sin((360*np.pi/180))"
      ],
      "metadata": {
        "colab": {
          "base_uri": "https://localhost:8080/"
        },
        "id": "Uarm3HsdHvAV",
        "outputId": "ebfbbdac-e955-4ade-d863-5acf3b963e18"
      },
      "execution_count": null,
      "outputs": [
        {
          "output_type": "execute_result",
          "data": {
            "text/plain": [
              "-2.4492935982947064e-16"
            ]
          },
          "metadata": {},
          "execution_count": 55
        }
      ]
    },
    {
      "cell_type": "code",
      "source": [
        "model.predict([-30*np.pi/180])"
      ],
      "metadata": {
        "colab": {
          "base_uri": "https://localhost:8080/"
        },
        "id": "k37Y2E0dghke",
        "outputId": "c2b51362-955a-4e9a-b8cb-3f38e8139b8d"
      },
      "execution_count": null,
      "outputs": [
        {
          "output_type": "stream",
          "name": "stdout",
          "text": [
            "1/1 [==============================] - 0s 41ms/step\n"
          ]
        },
        {
          "output_type": "execute_result",
          "data": {
            "text/plain": [
              "array([[-0.49877384]], dtype=float32)"
            ]
          },
          "metadata": {},
          "execution_count": 56
        }
      ]
    },
    {
      "cell_type": "code",
      "source": [
        "np.sin(-30*np.pi/180)"
      ],
      "metadata": {
        "colab": {
          "base_uri": "https://localhost:8080/"
        },
        "id": "N0GKN6EgHwDh",
        "outputId": "b5746cbf-bd07-4042-e739-e107b9e4cd43"
      },
      "execution_count": null,
      "outputs": [
        {
          "output_type": "execute_result",
          "data": {
            "text/plain": [
              "-0.4999999999999999"
            ]
          },
          "metadata": {},
          "execution_count": 57
        }
      ]
    },
    {
      "cell_type": "code",
      "source": [
        "tf.keras.utils.plot_model(model,show_shapes=True)"
      ],
      "metadata": {
        "colab": {
          "base_uri": "https://localhost:8080/",
          "height": 533
        },
        "id": "-oLtxDjFgrag",
        "outputId": "b2addd25-06d1-4abf-8fad-43227452b075"
      },
      "execution_count": null,
      "outputs": [
        {
          "output_type": "execute_result",
          "data": {
            "image/png": "[encoded data removed]",
            "text/plain": [
              "<IPython.core.display.Image object>"
            ]
          },
          "metadata": {},
          "execution_count": 58
        }
      ]
    },
    {
      "cell_type": "code",
      "source": [
        "model.summary()"
      ],
      "metadata": {
        "colab": {
          "base_uri": "https://localhost:8080/"
        },
        "id": "dKikCShIg7OR",
        "outputId": "b13e0a0f-179e-4169-d408-efc75a405469"
      },
      "execution_count": null,
      "outputs": [
        {
          "output_type": "stream",
          "name": "stdout",
          "text": [
            "Model: \"sequential_4\"\n",
            "_________________________________________________________________\n",
            " Layer (type)                Output Shape              Param #   \n",
            "=================================================================\n",
            " dense_17 (Dense)            (None, 128)               256       \n",
            "                                                                 \n",
            " dense_18 (Dense)            (None, 256)               33024     \n",
            "                                                                 \n",
            " dense_19 (Dense)            (None, 128)               32896     \n",
            "                                                                 \n",
            " dense_20 (Dense)            (None, 1)                 129       \n",
            "                                                                 \n",
            "=================================================================\n",
            "Total params: 66,305\n",
            "Trainable params: 66,305\n",
            "Non-trainable params: 0\n",
            "_________________________________________________________________\n"
          ]
        }
      ]
    },
    {
      "cell_type": "code",
      "source": [
        "model.predict([0*np.pi/180])"
      ],
      "metadata": {
        "colab": {
          "base_uri": "https://localhost:8080/"
        },
        "id": "ymxzCEbZg_Ev",
        "outputId": "ab712de8-5f8b-4bfe-bb07-b01ce5e83109"
      },
      "execution_count": null,
      "outputs": [
        {
          "output_type": "stream",
          "name": "stdout",
          "text": [
            "1/1 [==============================] - 0s 31ms/step\n"
          ]
        },
        {
          "output_type": "execute_result",
          "data": {
            "text/plain": [
              "array([[0.00420919]], dtype=float32)"
            ]
          },
          "metadata": {},
          "execution_count": 60
        }
      ]
    },
    {
      "cell_type": "code",
      "source": [
        "model.predict([360*np.pi/180])"
      ],
      "metadata": {
        "colab": {
          "base_uri": "https://localhost:8080/"
        },
        "id": "ArRi2Dp3lh7J",
        "outputId": "af30db9b-e737-477f-e8b6-022070daa226"
      },
      "execution_count": null,
      "outputs": [
        {
          "output_type": "stream",
          "name": "stdout",
          "text": [
            "1/1 [==============================] - 0s 57ms/step\n"
          ]
        },
        {
          "output_type": "execute_result",
          "data": {
            "text/plain": [
              "array([[-0.00131813]], dtype=float32)"
            ]
          },
          "metadata": {},
          "execution_count": 61
        }
      ]
    },
    {
      "cell_type": "code",
      "source": [
        "model.predict([720*np.pi/180])"
      ],
      "metadata": {
        "colab": {
          "base_uri": "https://localhost:8080/"
        },
        "id": "6lmMU4TploEm",
        "outputId": "d1ca8f66-a67a-4d3e-a527-342302c4d095"
      },
      "execution_count": null,
      "outputs": [
        {
          "output_type": "stream",
          "name": "stdout",
          "text": [
            "1/1 [==============================] - 0s 90ms/step\n"
          ]
        },
        {
          "output_type": "execute_result",
          "data": {
            "text/plain": [
              "array([[-0.00297466]], dtype=float32)"
            ]
          },
          "metadata": {},
          "execution_count": 62
        }
      ]
    },
    {
      "cell_type": "code",
      "source": [
        "model.predict([45*np.pi/180])"
      ],
      "metadata": {
        "colab": {
          "base_uri": "https://localhost:8080/"
        },
        "id": "JHeuqNuh2pFn",
        "outputId": "4058e8fe-1d2f-49a7-d28f-3e109c76891f"
      },
      "execution_count": null,
      "outputs": [
        {
          "output_type": "stream",
          "name": "stdout",
          "text": [
            "1/1 [==============================] - 0s 32ms/step\n"
          ]
        },
        {
          "output_type": "execute_result",
          "data": {
            "text/plain": [
              "array([[0.7069376]], dtype=float32)"
            ]
          },
          "metadata": {},
          "execution_count": 63
        }
      ]
    },
    {
      "cell_type": "code",
      "source": [],
      "metadata": {
        "id": "hM-pKizj2uBZ"
      },
      "execution_count": null,
      "outputs": []
    }
  ]
}